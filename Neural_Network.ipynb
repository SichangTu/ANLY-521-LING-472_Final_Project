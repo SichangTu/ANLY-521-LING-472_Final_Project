{
  "nbformat": 4,
  "nbformat_minor": 0,
  "metadata": {
    "kernelspec": {
      "display_name": "Python [conda env:pycomplx]",
      "language": "python",
      "name": "conda-env-pycomplx-py"
    },
    "language_info": {
      "codemirror_mode": {
        "name": "ipython",
        "version": 3
      },
      "file_extension": ".py",
      "mimetype": "text/x-python",
      "name": "python",
      "nbconvert_exporter": "python",
      "pygments_lexer": "ipython3",
      "version": "3.6.10"
    },
    "colab": {
      "name": "Neural_Network.ipynb",
      "provenance": []
    },
    "accelerator": "GPU"
  },
  "cells": [
    {
      "cell_type": "code",
      "metadata": {
        "id": "W8aqWObGPY2k",
        "colab_type": "code",
        "outputId": "fb9e7e6a-0637-4e89-bced-4d36ccd0fd03",
        "colab": {
          "base_uri": "https://localhost:8080/",
          "height": 154
        }
      },
      "source": [
        "%tensorflow_version 2.x\n",
        "\n",
        "from __future__ import absolute_import, division, print_function, unicode_literals\n",
        "\n",
        "import numpy as np\n",
        "import pandas as pd\n",
        "import matplotlib.pyplot as plot\n",
        "import tensorflow as tf\n",
        "print(tf.__version__)\n",
        "print(tf.test.gpu_device_name())\n",
        "\n",
        "from google.colab import drive\n",
        "drive.mount('/content/drive')"
      ],
      "execution_count": 0,
      "outputs": [
        {
          "output_type": "stream",
          "text": [
            "2.2.0-rc2\n",
            "/device:GPU:0\n",
            "Go to this URL in a browser: https://accounts.google.com/o/oauth2/auth?client_id=947318989803-6bn6qk8qdgf4n4g3pfee6491hc0brc4i.apps.googleusercontent.com&redirect_uri=urn%3aietf%3awg%3aoauth%3a2.0%3aoob&response_type=code&scope=email%20https%3a%2f%2fwww.googleapis.com%2fauth%2fdocs.test%20https%3a%2f%2fwww.googleapis.com%2fauth%2fdrive%20https%3a%2f%2fwww.googleapis.com%2fauth%2fdrive.photos.readonly%20https%3a%2f%2fwww.googleapis.com%2fauth%2fpeopleapi.readonly\n",
            "\n",
            "Enter your authorization code:\n",
            "··········\n",
            "Mounted at /content/drive\n"
          ],
          "name": "stdout"
        }
      ]
    },
    {
      "cell_type": "code",
      "metadata": {
        "id": "aX2Xaz-QPY2n",
        "colab_type": "code",
        "outputId": "03a940f2-c120-41fb-db21-87a1adb856ea",
        "colab": {
          "base_uri": "https://localhost:8080/",
          "height": 34
        }
      },
      "source": [
        "from tensorflow import keras\n",
        "from tensorflow.keras.preprocessing.text import Tokenizer\n",
        "from tensorflow.keras.preprocessing import sequence\n",
        "from tensorflow.keras.models import Sequential\n",
        "from tensorflow.keras.layers import Embedding, Dense, Dropout, Activation\n",
        "from tensorflow.keras.layers import LSTM, Bidirectional \n",
        "from tensorflow.keras.layers import Conv1D, GlobalMaxPooling1D\n",
        "from tensorflow.keras.optimizers import Adam\n",
        "from keras import metrics"
      ],
      "execution_count": 0,
      "outputs": [
        {
          "output_type": "stream",
          "text": [
            "Using TensorFlow backend.\n"
          ],
          "name": "stderr"
        }
      ]
    },
    {
      "cell_type": "code",
      "metadata": {
        "id": "iRf9EKCm4c_o",
        "colab_type": "code",
        "outputId": "5a39b347-c94c-485e-960d-3005c7753c8b",
        "colab": {
          "base_uri": "https://localhost:8080/",
          "height": 101
        }
      },
      "source": [
        "import nltk\n",
        "nltk.download('punkt')\n",
        "nltk.download('stopwords')"
      ],
      "execution_count": 0,
      "outputs": [
        {
          "output_type": "stream",
          "text": [
            "[nltk_data] Downloading package punkt to /root/nltk_data...\n",
            "[nltk_data]   Unzipping tokenizers/punkt.zip.\n",
            "[nltk_data] Downloading package stopwords to /root/nltk_data...\n",
            "[nltk_data]   Unzipping corpora/stopwords.zip.\n"
          ],
          "name": "stdout"
        },
        {
          "output_type": "execute_result",
          "data": {
            "text/plain": [
              "True"
            ]
          },
          "metadata": {
            "tags": []
          },
          "execution_count": 3
        }
      ]
    },
    {
      "cell_type": "code",
      "metadata": {
        "id": "hJ6D8IdLSt9Z",
        "colab_type": "code",
        "colab": {}
      },
      "source": [
        "# set random seed for numpy and tensorflow\n",
        "np.random.seed(93)\n",
        "tf.random.set_seed(93)"
      ],
      "execution_count": 0,
      "outputs": []
    },
    {
      "cell_type": "code",
      "metadata": {
        "id": "-tAbVdN0ic-L",
        "colab_type": "code",
        "colab": {}
      },
      "source": [
        "import sys\n",
        "sys.path.append('/content/drive/My Drive/Adv_PY/Final_Project')\n",
        "from util import preprocess_text, shuffle_dataset, split_data"
      ],
      "execution_count": 0,
      "outputs": []
    },
    {
      "cell_type": "code",
      "metadata": {
        "id": "fqaV3ZntVqPy",
        "colab_type": "code",
        "outputId": "9a94ab1b-2872-41c4-c898-c1afa62ab913",
        "colab": {
          "base_uri": "https://localhost:8080/",
          "height": 195
        }
      },
      "source": [
        "filename = '/content/drive/My Drive/Adv_PY/Final_Project/data.txt'\n",
        "\n",
        "read_file = df = pd.read_table(filename, sep='\\t',header=None,names=['label','msg'])\n",
        "read_file.head()"
      ],
      "execution_count": 0,
      "outputs": [
        {
          "output_type": "execute_result",
          "data": {
            "text/html": [
              "<div>\n",
              "<style scoped>\n",
              "    .dataframe tbody tr th:only-of-type {\n",
              "        vertical-align: middle;\n",
              "    }\n",
              "\n",
              "    .dataframe tbody tr th {\n",
              "        vertical-align: top;\n",
              "    }\n",
              "\n",
              "    .dataframe thead th {\n",
              "        text-align: right;\n",
              "    }\n",
              "</style>\n",
              "<table border=\"1\" class=\"dataframe\">\n",
              "  <thead>\n",
              "    <tr style=\"text-align: right;\">\n",
              "      <th></th>\n",
              "      <th>label</th>\n",
              "      <th>msg</th>\n",
              "    </tr>\n",
              "  </thead>\n",
              "  <tbody>\n",
              "    <tr>\n",
              "      <th>0</th>\n",
              "      <td>ham</td>\n",
              "      <td>Go until jurong point, crazy.. Available only ...</td>\n",
              "    </tr>\n",
              "    <tr>\n",
              "      <th>1</th>\n",
              "      <td>ham</td>\n",
              "      <td>Ok lar... Joking wif u oni...</td>\n",
              "    </tr>\n",
              "    <tr>\n",
              "      <th>2</th>\n",
              "      <td>spam</td>\n",
              "      <td>Free entry in 2 a wkly comp to win FA Cup fina...</td>\n",
              "    </tr>\n",
              "    <tr>\n",
              "      <th>3</th>\n",
              "      <td>ham</td>\n",
              "      <td>U dun say so early hor... U c already then say...</td>\n",
              "    </tr>\n",
              "    <tr>\n",
              "      <th>4</th>\n",
              "      <td>ham</td>\n",
              "      <td>Nah I don't think he goes to usf, he lives aro...</td>\n",
              "    </tr>\n",
              "  </tbody>\n",
              "</table>\n",
              "</div>"
            ],
            "text/plain": [
              "  label                                                msg\n",
              "0   ham  Go until jurong point, crazy.. Available only ...\n",
              "1   ham                      Ok lar... Joking wif u oni...\n",
              "2  spam  Free entry in 2 a wkly comp to win FA Cup fina...\n",
              "3   ham  U dun say so early hor... U c already then say...\n",
              "4   ham  Nah I don't think he goes to usf, he lives aro..."
            ]
          },
          "metadata": {
            "tags": []
          },
          "execution_count": 9
        }
      ]
    },
    {
      "cell_type": "code",
      "metadata": {
        "id": "FkkRU1YvjlP6",
        "colab_type": "code",
        "colab": {}
      },
      "source": [
        "# create train, test sets\n",
        "with open(filename, encoding='utf-8') as f:\n",
        "  texts = f.read().splitlines()\n",
        "\n",
        "labels = []\n",
        "corpus = []\n",
        "for text in texts:\n",
        "    label, msg = preprocess_text(text)\n",
        "    labels.append(label)\n",
        "    corpus.append(msg)\n",
        "\n",
        "train, test = split_data(corpus, labels, 0.2)\n",
        "y_train = np.asarray(train[1]).astype('int32').reshape((-1,1))\n",
        "y_test = np.asarray(test[1]).astype('int32').reshape((-1,1))\n",
        "# Converting training and validation data into sequences\n",
        "\n",
        "tokenizer = Tokenizer(filters='!\"#$%&()*+,-./:;<=>?[\\\\]^_`{|}~\\t\\n')\n",
        "tokenizer.fit_on_texts(corpus)"
      ],
      "execution_count": 0,
      "outputs": []
    },
    {
      "cell_type": "code",
      "metadata": {
        "id": "WTb14Lwr-9B4",
        "colab_type": "code",
        "outputId": "786641b4-1189-4350-f019-103cce71318f",
        "colab": {
          "base_uri": "https://localhost:8080/",
          "height": 134
        }
      },
      "source": [
        "y_train"
      ],
      "execution_count": 0,
      "outputs": [
        {
          "output_type": "execute_result",
          "data": {
            "text/plain": [
              "array([[0],\n",
              "       [0],\n",
              "       [0],\n",
              "       ...,\n",
              "       [0],\n",
              "       [1],\n",
              "       [0]], dtype=int32)"
            ]
          },
          "metadata": {
            "tags": []
          },
          "execution_count": 11
        }
      ]
    },
    {
      "cell_type": "code",
      "metadata": {
        "id": "-dQke5e4TTmv",
        "colab_type": "code",
        "outputId": "956385a5-bc09-4154-cda8-404c361edae2",
        "colab": {
          "base_uri": "https://localhost:8080/",
          "height": 50
        }
      },
      "source": [
        "# culculate max length\n",
        "\n",
        "num_tokens = [len(tokens) for tokens in tokenizer.texts_to_sequences(train[0]) + tokenizer.texts_to_sequences(test[0])]\n",
        "num_tokens = np.array(num_tokens)\n",
        "\n",
        "max_tokens = np.mean(num_tokens) + 2 * np.std(num_tokens)\n",
        "max_tokens = int(max_tokens)\n",
        "\n",
        "print(max_tokens)\n",
        "\n",
        "np.sum(num_tokens < max_tokens) / len (num_tokens)"
      ],
      "execution_count": 0,
      "outputs": [
        {
          "output_type": "stream",
          "text": [
            "25\n"
          ],
          "name": "stdout"
        },
        {
          "output_type": "execute_result",
          "data": {
            "text/plain": [
              "0.9608898457122353"
            ]
          },
          "metadata": {
            "tags": []
          },
          "execution_count": 13
        }
      ]
    },
    {
      "cell_type": "code",
      "metadata": {
        "id": "vxIZcES8TGtj",
        "colab_type": "code",
        "outputId": "eed46ea6-abde-4279-f122-a75d9a21566e",
        "colab": {
          "base_uri": "https://localhost:8080/",
          "height": 34
        }
      },
      "source": [
        "np.max(num_tokens)"
      ],
      "execution_count": 0,
      "outputs": [
        {
          "output_type": "execute_result",
          "data": {
            "text/plain": [
              "100"
            ]
          },
          "metadata": {
            "tags": []
          },
          "execution_count": 14
        }
      ]
    },
    {
      "cell_type": "code",
      "metadata": {
        "id": "8wgpm2z-5xRK",
        "colab_type": "code",
        "outputId": "03585a87-5f94-4216-b76c-fdee50e74c0a",
        "colab": {
          "base_uri": "https://localhost:8080/",
          "height": 50
        }
      },
      "source": [
        "# pad the sequence\n",
        "max_tokens = 100\n",
        "\n",
        "train_seq = sequence.pad_sequences(tokenizer.texts_to_sequences(train[0]),maxlen=max_tokens,padding='post',truncating='post')\n",
        "# train_seq = np.expand_dims(train_seq,-1)\n",
        "test_seq = sequence.pad_sequences(tokenizer.texts_to_sequences(test[0]),maxlen=max_tokens,padding='post',truncating='post')\n",
        "# test_seq = np.expand_dims(test_seq,-1)\n",
        "vocab_size=len(tokenizer.word_counts)\n",
        "\n",
        "print(train_seq.shape)\n",
        "print(test_seq.shape)"
      ],
      "execution_count": 0,
      "outputs": [
        {
          "output_type": "stream",
          "text": [
            "(4460, 100)\n",
            "(1114, 100)\n"
          ],
          "name": "stdout"
        }
      ]
    },
    {
      "cell_type": "code",
      "metadata": {
        "id": "Fz_kmWrx5NgJ",
        "colab_type": "code",
        "colab": {}
      },
      "source": [
        "# define parameters in the model\n",
        "epochs =20\n",
        "embedding_dim = 128\n",
        "unit_dim = 64\n",
        "batch_size = 32\n"
      ],
      "execution_count": 0,
      "outputs": []
    },
    {
      "cell_type": "code",
      "metadata": {
        "id": "g9eX6ymx5uFu",
        "colab_type": "code",
        "colab": {}
      },
      "source": [
        "def bilstm_model():\n",
        "    model = tf.keras.Sequential()\n",
        "    model.add(Embedding(input_dim=vocab_size+1, \n",
        "                            output_dim=embedding_dim, \n",
        "                            input_length=max_tokens, \n",
        "                            name='layer_embedding'))\n",
        "    model.add(Bidirectional(LSTM(units=unit_dim, return_sequences=True)))\n",
        "    model.add(Dropout(0.3))\n",
        "    model.add(Dense(vocab_size, activation='sigmoid'))\n",
        "    model.add(Dense(1,activation='sigmoid'))\n",
        "    model.summary()\n",
        "\n",
        "    model.compile(loss='binary_crossentropy',\n",
        "                optimizer='adam',\n",
        "                metrics=['accuracy'])\n",
        "    return model"
      ],
      "execution_count": 0,
      "outputs": []
    },
    {
      "cell_type": "code",
      "metadata": {
        "id": "i2lSc2GJ5jOI",
        "colab_type": "code",
        "colab": {}
      },
      "source": [
        "def cnn_model():\n",
        "    model = Sequential()\n",
        "    model.add(Embedding(input_dim=vocab_size+1,\n",
        "                        output_dim=embedding_dim,\n",
        "                        input_length=max_tokens))\n",
        "    model.add(Dropout(0.2))\n",
        "    model.add(Conv1D(256,\n",
        "                     3,\n",
        "                     padding='valid',\n",
        "                     activation='relu',\n",
        "                     strides=1))\n",
        "    model.add(GlobalMaxPooling1D())\n",
        "    model.add(Dense(256))\n",
        "    model.add(Dropout(0.2))\n",
        "    model.add(Activation('relu'))\n",
        "    model.add(Dense(1))\n",
        "    model.add(Activation('sigmoid'))\n",
        "    model.summary()\n",
        "    model.compile(loss='binary_crossentropy',\n",
        "                  optimizer='adam',\n",
        "                  metrics=['acc'])\n",
        "    return model"
      ],
      "execution_count": 0,
      "outputs": []
    },
    {
      "cell_type": "code",
      "metadata": {
        "id": "Y-UXIU4E7JQa",
        "colab_type": "code",
        "colab": {}
      },
      "source": [
        "def fit_model(model, x, y):\n",
        "    model.fit(x, y, batch_size=batch_size, epochs=epochs, verbose=1, validation_split=0.2)"
      ],
      "execution_count": 0,
      "outputs": []
    },
    {
      "cell_type": "code",
      "metadata": {
        "id": "QhddVMEL9JTf",
        "colab_type": "code",
        "outputId": "846523b2-8f57-41d4-8308-e5fa75dbc04c",
        "colab": {
          "base_uri": "https://localhost:8080/",
          "height": 1000
        }
      },
      "source": [
        "cnn = cnn_model()\n",
        "fit_model(cnn, train_seq, y_train)"
      ],
      "execution_count": 0,
      "outputs": [
        {
          "output_type": "stream",
          "text": [
            "Model: \"sequential_2\"\n",
            "_________________________________________________________________\n",
            "Layer (type)                 Output Shape              Param #   \n",
            "=================================================================\n",
            "embedding_1 (Embedding)      (None, 100, 128)          978048    \n",
            "_________________________________________________________________\n",
            "dropout_3 (Dropout)          (None, 100, 128)          0         \n",
            "_________________________________________________________________\n",
            "conv1d_1 (Conv1D)            (None, 98, 256)           98560     \n",
            "_________________________________________________________________\n",
            "global_max_pooling1d_1 (Glob (None, 256)               0         \n",
            "_________________________________________________________________\n",
            "dense_4 (Dense)              (None, 256)               65792     \n",
            "_________________________________________________________________\n",
            "dropout_4 (Dropout)          (None, 256)               0         \n",
            "_________________________________________________________________\n",
            "activation_2 (Activation)    (None, 256)               0         \n",
            "_________________________________________________________________\n",
            "dense_5 (Dense)              (None, 1)                 257       \n",
            "_________________________________________________________________\n",
            "activation_3 (Activation)    (None, 1)                 0         \n",
            "=================================================================\n",
            "Total params: 1,142,657\n",
            "Trainable params: 1,142,657\n",
            "Non-trainable params: 0\n",
            "_________________________________________________________________\n",
            "Epoch 1/20\n",
            "112/112 [==============================] - 2s 15ms/step - loss: 0.3228 - acc: 0.8789 - val_loss: 0.1338 - val_acc: 0.9552\n",
            "Epoch 2/20\n",
            "112/112 [==============================] - 1s 13ms/step - loss: 0.0440 - acc: 0.9885 - val_loss: 0.0586 - val_acc: 0.9809\n",
            "Epoch 3/20\n",
            "112/112 [==============================] - 1s 13ms/step - loss: 0.0110 - acc: 0.9966 - val_loss: 0.0640 - val_acc: 0.9843\n",
            "Epoch 4/20\n",
            "112/112 [==============================] - 1s 13ms/step - loss: 0.0029 - acc: 0.9994 - val_loss: 0.0709 - val_acc: 0.9832\n",
            "Epoch 5/20\n",
            "112/112 [==============================] - 1s 13ms/step - loss: 5.6063e-04 - acc: 1.0000 - val_loss: 0.0729 - val_acc: 0.9865\n",
            "Epoch 6/20\n",
            "112/112 [==============================] - 1s 13ms/step - loss: 3.2583e-04 - acc: 1.0000 - val_loss: 0.0787 - val_acc: 0.9854\n",
            "Epoch 7/20\n",
            "112/112 [==============================] - 1s 13ms/step - loss: 1.6086e-04 - acc: 1.0000 - val_loss: 0.0799 - val_acc: 0.9865\n",
            "Epoch 8/20\n",
            "112/112 [==============================] - 1s 13ms/step - loss: 1.0022e-04 - acc: 1.0000 - val_loss: 0.0814 - val_acc: 0.9865\n",
            "Epoch 9/20\n",
            "112/112 [==============================] - 1s 13ms/step - loss: 8.3244e-05 - acc: 1.0000 - val_loss: 0.0832 - val_acc: 0.9854\n",
            "Epoch 10/20\n",
            "112/112 [==============================] - 2s 14ms/step - loss: 1.8838e-04 - acc: 1.0000 - val_loss: 0.0901 - val_acc: 0.9854\n",
            "Epoch 11/20\n",
            "112/112 [==============================] - 1s 13ms/step - loss: 6.8265e-05 - acc: 1.0000 - val_loss: 0.0909 - val_acc: 0.9854\n",
            "Epoch 12/20\n",
            "112/112 [==============================] - 1s 13ms/step - loss: 4.9326e-05 - acc: 1.0000 - val_loss: 0.0923 - val_acc: 0.9854\n",
            "Epoch 13/20\n",
            "112/112 [==============================] - 1s 13ms/step - loss: 3.3064e-05 - acc: 1.0000 - val_loss: 0.0940 - val_acc: 0.9854\n",
            "Epoch 14/20\n",
            "112/112 [==============================] - 2s 14ms/step - loss: 4.7843e-05 - acc: 1.0000 - val_loss: 0.0964 - val_acc: 0.9854\n",
            "Epoch 15/20\n",
            "112/112 [==============================] - 1s 13ms/step - loss: 5.5201e-05 - acc: 1.0000 - val_loss: 0.0967 - val_acc: 0.9865\n",
            "Epoch 16/20\n",
            "112/112 [==============================] - 2s 14ms/step - loss: 2.9407e-05 - acc: 1.0000 - val_loss: 0.0979 - val_acc: 0.9865\n",
            "Epoch 17/20\n",
            "112/112 [==============================] - 1s 13ms/step - loss: 1.8803e-05 - acc: 1.0000 - val_loss: 0.0990 - val_acc: 0.9865\n",
            "Epoch 18/20\n",
            "112/112 [==============================] - 1s 13ms/step - loss: 1.2155e-05 - acc: 1.0000 - val_loss: 0.0996 - val_acc: 0.9865\n",
            "Epoch 19/20\n",
            "112/112 [==============================] - 1s 13ms/step - loss: 1.5557e-05 - acc: 1.0000 - val_loss: 0.1006 - val_acc: 0.9865\n",
            "Epoch 20/20\n",
            "112/112 [==============================] - 1s 13ms/step - loss: 1.1030e-05 - acc: 1.0000 - val_loss: 0.1014 - val_acc: 0.9865\n"
          ],
          "name": "stdout"
        }
      ]
    },
    {
      "cell_type": "code",
      "metadata": {
        "id": "yJdZ1nv9Zf4Y",
        "colab_type": "code",
        "outputId": "3e9f4614-13f4-4886-d979-a5eb42aaaddd",
        "colab": {
          "base_uri": "https://localhost:8080/",
          "height": 50
        }
      },
      "source": [
        "score = cnn.evaluate(test_seq, y_test)\n",
        "score"
      ],
      "execution_count": 0,
      "outputs": [
        {
          "output_type": "stream",
          "text": [
            "35/35 [==============================] - 0s 3ms/step - loss: 0.0566 - acc: 0.9883\n"
          ],
          "name": "stdout"
        },
        {
          "output_type": "execute_result",
          "data": {
            "text/plain": [
              "[0.056553225964307785, 0.9883303642272949]"
            ]
          },
          "metadata": {
            "tags": []
          },
          "execution_count": 30
        }
      ]
    },
    {
      "cell_type": "code",
      "metadata": {
        "id": "Vy5dhuJCcqgq",
        "colab_type": "code",
        "outputId": "f39032dc-ae5e-4a67-c0d6-914b4b541572",
        "colab": {
          "base_uri": "https://localhost:8080/",
          "height": 1000
        }
      },
      "source": [
        "bilstm = bilstm_model()\n",
        "fit_model(bilstm, train_seq, y_train)"
      ],
      "execution_count": 0,
      "outputs": [
        {
          "output_type": "stream",
          "text": [
            "Model: \"sequential_3\"\n",
            "_________________________________________________________________\n",
            "Layer (type)                 Output Shape              Param #   \n",
            "=================================================================\n",
            "layer_embedding (Embedding)  (None, 100, 128)          978048    \n",
            "_________________________________________________________________\n",
            "bidirectional_1 (Bidirection (None, 100, 128)          98816     \n",
            "_________________________________________________________________\n",
            "dropout_5 (Dropout)          (None, 100, 128)          0         \n",
            "_________________________________________________________________\n",
            "dense_6 (Dense)              (None, 100, 7640)         985560    \n",
            "_________________________________________________________________\n",
            "dense_7 (Dense)              (None, 100, 1)            7641      \n",
            "=================================================================\n",
            "Total params: 2,070,065\n",
            "Trainable params: 2,070,065\n",
            "Non-trainable params: 0\n",
            "_________________________________________________________________\n",
            "Epoch 1/20\n",
            "112/112 [==============================] - 5s 40ms/step - loss: 0.3724 - accuracy: 0.8948 - val_loss: 0.1694 - val_accuracy: 0.9625\n",
            "Epoch 2/20\n",
            "112/112 [==============================] - 3s 31ms/step - loss: 0.1120 - accuracy: 0.9656 - val_loss: 0.1257 - val_accuracy: 0.9723\n",
            "Epoch 3/20\n",
            "112/112 [==============================] - 3s 31ms/step - loss: 0.0369 - accuracy: 0.9939 - val_loss: 0.1251 - val_accuracy: 0.9773\n",
            "Epoch 4/20\n",
            "112/112 [==============================] - 3s 31ms/step - loss: 0.0171 - accuracy: 0.9975 - val_loss: 0.1232 - val_accuracy: 0.9811\n",
            "Epoch 5/20\n",
            "112/112 [==============================] - 4s 31ms/step - loss: 0.0067 - accuracy: 0.9991 - val_loss: 0.1432 - val_accuracy: 0.9815\n",
            "Epoch 6/20\n",
            "112/112 [==============================] - 3s 31ms/step - loss: 0.0049 - accuracy: 0.9994 - val_loss: 0.1497 - val_accuracy: 0.9801\n",
            "Epoch 7/20\n",
            "112/112 [==============================] - 3s 31ms/step - loss: 0.0049 - accuracy: 0.9994 - val_loss: 0.1175 - val_accuracy: 0.9829\n",
            "Epoch 8/20\n",
            "112/112 [==============================] - 3s 31ms/step - loss: 6.4648e-04 - accuracy: 0.9999 - val_loss: 0.1663 - val_accuracy: 0.9813\n",
            "Epoch 9/20\n",
            "112/112 [==============================] - 3s 30ms/step - loss: 2.3911e-04 - accuracy: 1.0000 - val_loss: 0.1760 - val_accuracy: 0.9812\n",
            "Epoch 10/20\n",
            "112/112 [==============================] - 3s 31ms/step - loss: 1.6546e-04 - accuracy: 1.0000 - val_loss: 0.1819 - val_accuracy: 0.9812\n",
            "Epoch 11/20\n",
            "112/112 [==============================] - 3s 31ms/step - loss: 1.1981e-04 - accuracy: 1.0000 - val_loss: 0.1900 - val_accuracy: 0.9812\n",
            "Epoch 12/20\n",
            "112/112 [==============================] - 3s 31ms/step - loss: 1.0052e-04 - accuracy: 1.0000 - val_loss: 0.2017 - val_accuracy: 0.9805\n",
            "Epoch 13/20\n",
            "112/112 [==============================] - 3s 31ms/step - loss: 8.4643e-05 - accuracy: 1.0000 - val_loss: 0.2068 - val_accuracy: 0.9804\n",
            "Epoch 14/20\n",
            "112/112 [==============================] - 3s 31ms/step - loss: 6.8828e-05 - accuracy: 1.0000 - val_loss: 0.2118 - val_accuracy: 0.9804\n",
            "Epoch 15/20\n",
            "112/112 [==============================] - 3s 31ms/step - loss: 5.7959e-05 - accuracy: 1.0000 - val_loss: 0.2157 - val_accuracy: 0.9804\n",
            "Epoch 16/20\n",
            "112/112 [==============================] - 3s 31ms/step - loss: 5.0775e-05 - accuracy: 1.0000 - val_loss: 0.2202 - val_accuracy: 0.9803\n",
            "Epoch 17/20\n",
            "112/112 [==============================] - 3s 31ms/step - loss: 4.4025e-05 - accuracy: 1.0000 - val_loss: 0.2236 - val_accuracy: 0.9803\n",
            "Epoch 18/20\n",
            "112/112 [==============================] - 3s 30ms/step - loss: 3.7546e-05 - accuracy: 1.0000 - val_loss: 0.2267 - val_accuracy: 0.9803\n",
            "Epoch 19/20\n",
            "112/112 [==============================] - 3s 31ms/step - loss: 3.8190e-05 - accuracy: 1.0000 - val_loss: 0.2291 - val_accuracy: 0.9802\n",
            "Epoch 20/20\n",
            "112/112 [==============================] - 3s 31ms/step - loss: 3.1759e-05 - accuracy: 1.0000 - val_loss: 0.2314 - val_accuracy: 0.9802\n"
          ],
          "name": "stdout"
        }
      ]
    },
    {
      "cell_type": "code",
      "metadata": {
        "id": "12WwWvTFfggp",
        "colab_type": "code",
        "outputId": "305c50d5-32bf-4c12-d508-b8b9fcbb115c",
        "colab": {
          "base_uri": "https://localhost:8080/",
          "height": 50
        }
      },
      "source": [
        "score = bilstm.evaluate(test_seq, y_test)\n",
        "score"
      ],
      "execution_count": 0,
      "outputs": [
        {
          "output_type": "stream",
          "text": [
            "35/35 [==============================] - 0s 10ms/step - loss: 0.1023 - accuracy: 0.9911\n"
          ],
          "name": "stdout"
        },
        {
          "output_type": "execute_result",
          "data": {
            "text/plain": [
              "[0.10231638699769974, 0.9910771250724792]"
            ]
          },
          "metadata": {
            "tags": []
          },
          "execution_count": 32
        }
      ]
    }
  ]
}